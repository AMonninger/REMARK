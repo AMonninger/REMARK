{
 "cells": [
  {
   "cell_type": "markdown",
   "metadata": {},
   "source": [
    "# Optimal Portfolio Choice over the Life Cycle\n",
    "\n",
    "Economists like to compare actual behavior to the choices that would be made by a \"rational\" agent who understands all the complexities of a decision, and who knows how to find the mathematically optimal choice taking those complexities into account.  \"Behavioral\" economics can be viewed as the attempt to understand how actual behavior deviates from an optimizing benchmark.\n",
    "\n",
    "The choice of your \"risky portfolio share\"\n",
    "\n",
    ".............\n",
    "\n",
    "............."
   ]
  },
  {
   "cell_type": "markdown",
   "metadata": {},
   "source": [
    "In this blog post we use the new class of Consumption Saving model `PortfolioConsumerType` to reproduce the paper, Consumption and Portfolio Choice Over the Life Cycle by Cocco, Gomes, & Maenhout (2005). (Explain the gist of paper?)\n",
    "\n",
    "We explain Portfolio Choice over various different assumptions and parameters.\n",
    "\n",
    "\n",
    "![RShare_Means](figures/figure_Parameters_base/RShare_Means.png)"
   ]
  },
  {
   "cell_type": "code",
   "execution_count": null,
   "metadata": {},
   "outputs": [],
   "source": []
  }
 ],
 "metadata": {
  "jupytext": {
   "formats": "ipynb,py:percent",
   "notebook_metadata_filter": "all"
  },
  "kernelspec": {
   "display_name": "Python 3",
   "language": "python",
   "name": "python3"
  },
  "language_info": {
   "codemirror_mode": {
    "name": "ipython",
    "version": 3
   },
   "file_extension": ".py",
   "mimetype": "text/x-python",
   "name": "python",
   "nbconvert_exporter": "python",
   "pygments_lexer": "ipython3",
   "version": "3.6.9"
  },
  "latex_envs": {
   "LaTeX_envs_menu_present": true,
   "autoclose": false,
   "autocomplete": false,
   "bibliofile": "biblio.bib",
   "cite_by": "apalike",
   "current_citInitial": 1,
   "eqLabelWithNumbers": true,
   "eqNumInitial": 1,
   "hotkeys": {
    "equation": "Ctrl-E",
    "itemize": "Ctrl-I"
   },
   "labels_anchors": false,
   "latex_user_defs": false,
   "report_style_numbering": false,
   "user_envs_cfg": false
  }
 },
 "nbformat": 4,
 "nbformat_minor": 4
}
