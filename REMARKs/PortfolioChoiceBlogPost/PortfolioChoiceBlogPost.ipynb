{
 "cells": [
  {
   "cell_type": "markdown",
   "metadata": {},
   "source": [
    "### Text introducting Portfolio choice and details about the code developed (PortfolioConsumerType)\n",
    "\n",
    "\n",
    ".............\n",
    "\n",
    ".............\n",
    "\n",
    "............."
   ]
  },
  {
   "cell_type": "markdown",
   "metadata": {},
   "source": [
    "In this blog post we use the new class of Consumption Saving model `PortfolioConsumerType` to reproduce the paper, Consumption and Portfolio Choice Over the Life Cycle by Cocco, Gomes, & Maenhout (2005). (Explain the gist of paper?)\n",
    "\n",
    "We explain Portfolio Choice over various different assumptions and parameters.\n",
    "\n",
    "\n",
    "![RShare_Means](figures/figure_Parameters_base/RShare_Means.png)"
   ]
  },
  {
   "cell_type": "code",
   "execution_count": null,
   "metadata": {},
   "outputs": [],
   "source": []
  }
 ],
 "metadata": {
  "jupytext": {
   "notebook_metadata_filter": "all"
  },
  "kernelspec": {
   "display_name": "Python 3",
   "language": "python",
   "name": "python3"
  },
  "language_info": {
   "codemirror_mode": {
    "name": "ipython",
    "version": 3
   },
   "file_extension": ".py",
   "mimetype": "text/x-python",
   "name": "python",
   "nbconvert_exporter": "python",
   "pygments_lexer": "ipython3",
   "version": "3.7.6"
  }
 },
 "nbformat": 4,
 "nbformat_minor": 4
}
